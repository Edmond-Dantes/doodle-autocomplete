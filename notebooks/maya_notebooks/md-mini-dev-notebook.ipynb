{
 "cells": [
  {
   "cell_type": "code",
   "execution_count": 1,
   "id": "10e2320f",
   "metadata": {},
   "outputs": [
    {
     "name": "stderr",
     "output_type": "stream",
     "text": [
      "2025-08-28 19:07:26.746110: I tensorflow/core/platform/cpu_feature_guard.cc:182] This TensorFlow binary is optimized to use available CPU instructions in performance-critical operations.\n",
      "To enable the following instructions: AVX2 FMA, in other operations, rebuild TensorFlow with the appropriate compiler flags.\n"
     ]
    },
    {
     "name": "stdout",
     "output_type": "stream",
     "text": [
      "Done ✅\n"
     ]
    }
   ],
   "source": [
    "# --- Section 1: Load libraries, env, GCS data ---\n",
    "from IPython.display import display\n",
    "import os, pathlib\n",
    "from dotenv import load_dotenv, dotenv_values\n",
    "from google.cloud import storage\n",
    "import numpy as np\n",
    "import matplotlib.pyplot as plt\n",
    "from scipy.ndimage import rotate\n",
    "from keras import layers, models\n",
    "from keras.callbacks import EarlyStopping\n",
    "from sklearn.model_selection import train_test_split\n",
    "import tensorflow as tf\n",
    "\n",
    "load_dotenv()\n",
    "\n",
    "DATA_DIR = \"data\"\n",
    "TARGETS = [\"circle\", \"square\", \"triangle\", \"star\", \"vertical_arrows\", \"axis\"]\n",
    "OTHERS = [\"face\", \"cat\", \"cloud\", \"house\", \"tree\"]\n",
    "CLASS_NAMES = TARGETS + [\"other\"]\n",
    "CLASS_TO_ID = {c:i for i,c in enumerate(CLASS_NAMES)}\n",
    "classes = TARGETS + OTHERS\n",
    "\n",
    "# GCS client\n",
    "key_path = dotenv_values(\".env\")['GOOGLE_APPLICATION_CREDENTIALS']\n",
    "os.environ[\"GOOGLE_APPLICATION_CREDENTIALS\"] = key_path\n",
    "client = storage.Client()\n",
    "bucket = client.bucket(\"doodle-autocomplete\")\n",
    "prefix = \"training-data\"\n",
    "os.makedirs(DATA_DIR, exist_ok=True)\n",
    "\n",
    "for c in classes:\n",
    "    dst = os.path.join(DATA_DIR, f\"{c}.npy\")\n",
    "    if not os.path.exists(dst):\n",
    "        blob = bucket.blob(f\"{prefix}/{c}.npy\")\n",
    "        blob.download_to_filename(dst)\n",
    "print(\"Done ✅\")"
   ]
  },
  {
   "cell_type": "code",
   "execution_count": 2,
   "id": "a110812b",
   "metadata": {},
   "outputs": [],
   "source": [
    "# --- Section 2: Load .npy and build arrays ---\n",
    "def load_npy(path, limit=None):\n",
    "    arr = np.load(path)\n",
    "    if limit is not None:\n",
    "        arr = arr[:limit]\n",
    "    return arr.reshape(-1, 28, 28)\n",
    "\n",
    "def build_arrays(data_dir, per_class=10000, other_total=5000, seed=0):\n",
    "    rng = np.random.default_rng(seed)\n",
    "    Xs, ys_class, ys_orient = [], [], []\n",
    "\n",
    "    for cname in TARGETS:\n",
    "        path = os.path.join(data_dir, f\"{cname}.npy\")\n",
    "\n",
    "        if cname == \"vertical_arrows\":\n",
    "            max_samples = 500\n",
    "            rotations_per_img = 24\n",
    "            X_base = load_npy(path)\n",
    "            if len(X_base) > max_samples:\n",
    "                X_base = rng.choice(X_base, size=max_samples, replace=False)\n",
    "\n",
    "            Xc, yo = [], []\n",
    "            for img in X_base:\n",
    "                angles = np.linspace(0, 360, rotations_per_img, endpoint=False)\n",
    "                for angle in angles:\n",
    "                    Xc.append(rotate(img, angle, reshape=False, order=1, mode='constant'))\n",
    "                    yo.append(angle)\n",
    "\n",
    "            Xc = np.array(Xc)\n",
    "            yc = np.full(len(Xc), CLASS_TO_ID[cname], dtype=np.int64)\n",
    "            yo_rad = np.deg2rad(np.array(yo))\n",
    "            yo_sin_cos = np.stack([np.sin(yo_rad), np.cos(yo_rad)], axis=1)\n",
    "            yo = yo_sin_cos\n",
    "\n",
    "        else:\n",
    "            Xc = load_npy(path, limit=per_class)\n",
    "            yc = np.full(len(Xc), CLASS_TO_ID[cname], dtype=np.int64)\n",
    "            yo = np.full((len(Xc),2), -999.0, dtype=np.float32)  # mask\n",
    "\n",
    "        Xs.append(Xc)\n",
    "        ys_class.append(yc)\n",
    "        ys_orient.append(yo)\n",
    "\n",
    "    per_other = max(1, other_total // len(OTHERS))\n",
    "    other_parts = [load_npy(os.path.join(data_dir, f\"{c}.npy\"), limit=per_other) for c in OTHERS]\n",
    "    Xo = np.concatenate(other_parts)\n",
    "    yo = np.full((len(Xo),2), -999.0, dtype=np.float32)\n",
    "    yc = np.full(len(Xo), CLASS_TO_ID[\"other\"], dtype=np.int64)\n",
    "\n",
    "    Xs.append(Xo)\n",
    "    ys_class.append(yc)\n",
    "    ys_orient.append(yo)\n",
    "\n",
    "    X = np.concatenate(Xs)[..., None].astype(\"float32\") / 255.0\n",
    "    y_class = np.concatenate(ys_class)\n",
    "    y_orient = np.concatenate(ys_orient)\n",
    "\n",
    "    idx = rng.permutation(len(X))\n",
    "    return X[idx], y_class[idx], y_orient[idx]\n",
    "\n",
    "X, y_class, y_orient = build_arrays(DATA_DIR, per_class=5000, other_total=5000)"
   ]
  },
  {
   "cell_type": "code",
   "execution_count": 8,
   "id": "4df63175",
   "metadata": {},
   "outputs": [
    {
     "name": "stdout",
     "output_type": "stream",
     "text": [
      "Model: \"classifier\"\n",
      "__________________________________________________________________________________________________\n",
      " Layer (type)                Output Shape                 Param #   Connected to                  \n",
      "==================================================================================================\n",
      " input_2 (InputLayer)        [(None, 28, 28, 1)]          0         []                            \n",
      "                                                                                                  \n",
      " conv2d_2 (Conv2D)           (None, 28, 28, 16)           160       ['input_2[0][0]']             \n",
      "                                                                                                  \n",
      " max_pooling2d_2 (MaxPoolin  (None, 14, 14, 16)           0         ['conv2d_2[0][0]']            \n",
      " g2D)                                                                                             \n",
      "                                                                                                  \n",
      " conv2d_3 (Conv2D)           (None, 14, 14, 32)           4640      ['max_pooling2d_2[0][0]']     \n",
      "                                                                                                  \n",
      " max_pooling2d_3 (MaxPoolin  (None, 7, 7, 32)             0         ['conv2d_3[0][0]']            \n",
      " g2D)                                                                                             \n",
      "                                                                                                  \n",
      " flatten_1 (Flatten)         (None, 1568)                 0         ['max_pooling2d_3[0][0]']     \n",
      "                                                                                                  \n",
      " dense_2 (Dense)             (None, 64)                   100416    ['flatten_1[0][0]']           \n",
      "                                                                                                  \n",
      " dense_3 (Dense)             (None, 32)                   2080      ['dense_2[0][0]']             \n",
      "                                                                                                  \n",
      " class_output (Dense)        (None, 7)                    455       ['dense_2[0][0]']             \n",
      "                                                                                                  \n",
      " orient_output (Dense)       (None, 2)                    66        ['dense_3[0][0]']             \n",
      "                                                                                                  \n",
      "==================================================================================================\n",
      "Total params: 107817 (421.16 KB)\n",
      "Trainable params: 107817 (421.16 KB)\n",
      "Non-trainable params: 0 (0.00 Byte)\n",
      "__________________________________________________________________________________________________\n"
     ]
    }
   ],
   "source": [
    "# --- Section 3: Build model ---\n",
    "n_classes = len(CLASS_NAMES)\n",
    "inputs = layers.Input(shape=(28,28,1))\n",
    "x = layers.Conv2D(16,3,padding=\"same\",activation=\"relu\")(inputs)\n",
    "x = layers.MaxPooling2D(2)(x)\n",
    "x = layers.Conv2D(32,3,padding=\"same\",activation=\"relu\")(x)\n",
    "x = layers.MaxPooling2D(2)(x)\n",
    "x = layers.Flatten()(x)\n",
    "shared_dense = layers.Dense(64, activation=\"relu\")(x)\n",
    "\n",
    "class_output = layers.Dense(n_classes, activation=\"softmax\", name=\"class_output\")(shared_dense)\n",
    "orient_branch = layers.Dense(32, activation=\"relu\")(shared_dense)\n",
    "orient_output = layers.Dense(2, activation=\"linear\", name=\"orient_output\")(orient_branch)\n",
    "\n",
    "model = models.Model(inputs=inputs, outputs=[class_output, orient_output], name=\"classifier\")\n",
    "\n",
    "def angle_loss(y_true, y_pred):\n",
    "    mask = tf.reduce_all(tf.not_equal(y_true, -999.0), axis=1)\n",
    "    y_true_masked = tf.boolean_mask(y_true, mask)\n",
    "    y_pred_masked = tf.boolean_mask(y_pred, mask)\n",
    "    def valid_loss():\n",
    "        y_pred_norm = tf.nn.l2_normalize(y_pred_masked, axis=1)\n",
    "        cos_diff = tf.reduce_sum(y_true_masked * y_pred_norm, axis=1)\n",
    "        return tf.reduce_mean(1.0 - cos_diff)\n",
    "    return tf.cond(tf.size(y_true_masked) > 0, valid_loss, lambda: tf.constant(0.0, dtype=tf.float32))\n",
    "\n",
    "model.compile(\n",
    "    optimizer=\"adam\",\n",
    "    loss={\"class_output\": \"sparse_categorical_crossentropy\", \"orient_output\": angle_loss},\n",
    "    loss_weights={\"class_output\": 1.0, \"orient_output\": 1.0},\n",
    "    metrics={\"class_output\": \"accuracy\", \"orient_output\": \"mae\"}\n",
    ")\n",
    "model.summary()\n"
   ]
  },
  {
   "cell_type": "code",
   "execution_count": 9,
   "id": "d69821f5",
   "metadata": {},
   "outputs": [],
   "source": [
    "# --- Section 4: Split data and create arrow_mask ---\n",
    "arrow_mask = y_class == CLASS_TO_ID[\"vertical_arrows\"]\n",
    "other_mask = ~arrow_mask\n",
    "\n",
    "# Vertical arrows (orientation training)\n",
    "X_arrow = X[arrow_mask]\n",
    "y_class_arrow = y_class[arrow_mask]\n",
    "y_orient_arrow = y_orient[arrow_mask]\n",
    "\n",
    "# Full dataset (classification training)\n",
    "X_other = X[other_mask]\n",
    "y_class_other = y_class[other_mask]\n",
    "y_orient_other = y_orient[other_mask]\n"
   ]
  },
  {
   "cell_type": "code",
   "execution_count": 10,
   "id": "8178e80f",
   "metadata": {},
   "outputs": [
    {
     "name": "stdout",
     "output_type": "stream",
     "text": [
      "Epoch 1/20\n",
      "169/169 [==============================] - 6s 25ms/step - loss: 0.3008 - orient_output_loss: 0.3008 - orient_output_mae: 0.6270 - val_loss: 0.0256 - val_orient_output_loss: 0.0256 - val_orient_output_mae: 0.6187\n",
      "Epoch 2/20\n",
      "169/169 [==============================] - 4s 24ms/step - loss: 0.0161 - orient_output_loss: 0.0161 - orient_output_mae: 0.6236 - val_loss: 0.0106 - val_orient_output_loss: 0.0106 - val_orient_output_mae: 0.6201\n",
      "Epoch 3/20\n",
      "169/169 [==============================] - 4s 25ms/step - loss: 0.0088 - orient_output_loss: 0.0088 - orient_output_mae: 0.6236 - val_loss: 0.0081 - val_orient_output_loss: 0.0081 - val_orient_output_mae: 0.6192\n",
      "Epoch 4/20\n",
      "169/169 [==============================] - 4s 24ms/step - loss: 0.0072 - orient_output_loss: 0.0072 - orient_output_mae: 0.6231 - val_loss: 0.0065 - val_orient_output_loss: 0.0065 - val_orient_output_mae: 0.6187\n",
      "Epoch 5/20\n",
      "169/169 [==============================] - 4s 22ms/step - loss: 0.0066 - orient_output_loss: 0.0066 - orient_output_mae: 0.6226 - val_loss: 0.0064 - val_orient_output_loss: 0.0064 - val_orient_output_mae: 0.6183\n",
      "Epoch 6/20\n",
      "169/169 [==============================] - 4s 24ms/step - loss: 0.0059 - orient_output_loss: 0.0059 - orient_output_mae: 0.6222 - val_loss: 0.0069 - val_orient_output_loss: 0.0069 - val_orient_output_mae: 0.6168\n",
      "Epoch 7/20\n",
      "169/169 [==============================] - 4s 23ms/step - loss: 0.0052 - orient_output_loss: 0.0052 - orient_output_mae: 0.6212 - val_loss: 0.0047 - val_orient_output_loss: 0.0047 - val_orient_output_mae: 0.6175\n",
      "Epoch 8/20\n",
      "169/169 [==============================] - 4s 23ms/step - loss: 0.0045 - orient_output_loss: 0.0045 - orient_output_mae: 0.6207 - val_loss: 0.0084 - val_orient_output_loss: 0.0084 - val_orient_output_mae: 0.6167\n",
      "Epoch 9/20\n",
      "169/169 [==============================] - 4s 23ms/step - loss: 0.0040 - orient_output_loss: 0.0040 - orient_output_mae: 0.6201 - val_loss: 0.0035 - val_orient_output_loss: 0.0035 - val_orient_output_mae: 0.6159\n",
      "Epoch 10/20\n",
      "169/169 [==============================] - 4s 23ms/step - loss: 0.0038 - orient_output_loss: 0.0038 - orient_output_mae: 0.6196 - val_loss: 0.0033 - val_orient_output_loss: 0.0033 - val_orient_output_mae: 0.6148\n",
      "Epoch 11/20\n",
      "169/169 [==============================] - 4s 24ms/step - loss: 0.0036 - orient_output_loss: 0.0036 - orient_output_mae: 0.6189 - val_loss: 0.0037 - val_orient_output_loss: 0.0037 - val_orient_output_mae: 0.6133\n",
      "Epoch 12/20\n",
      "169/169 [==============================] - 4s 24ms/step - loss: 0.0032 - orient_output_loss: 0.0032 - orient_output_mae: 0.6182 - val_loss: 0.0030 - val_orient_output_loss: 0.0030 - val_orient_output_mae: 0.6142\n",
      "Epoch 13/20\n",
      "169/169 [==============================] - 4s 25ms/step - loss: 0.0029 - orient_output_loss: 0.0029 - orient_output_mae: 0.6179 - val_loss: 0.0028 - val_orient_output_loss: 0.0028 - val_orient_output_mae: 0.6129\n",
      "Epoch 14/20\n",
      "169/169 [==============================] - 4s 26ms/step - loss: 0.0032 - orient_output_loss: 0.0032 - orient_output_mae: 0.6168 - val_loss: 0.0037 - val_orient_output_loss: 0.0037 - val_orient_output_mae: 0.6121\n",
      "Epoch 15/20\n",
      "169/169 [==============================] - 4s 26ms/step - loss: 0.0029 - orient_output_loss: 0.0029 - orient_output_mae: 0.6157 - val_loss: 0.0026 - val_orient_output_loss: 0.0026 - val_orient_output_mae: 0.6109\n",
      "Epoch 16/20\n",
      "169/169 [==============================] - 4s 26ms/step - loss: 0.0026 - orient_output_loss: 0.0026 - orient_output_mae: 0.6152 - val_loss: 0.0025 - val_orient_output_loss: 0.0025 - val_orient_output_mae: 0.6111\n",
      "Epoch 17/20\n",
      "169/169 [==============================] - 4s 26ms/step - loss: 0.0025 - orient_output_loss: 0.0025 - orient_output_mae: 0.6147 - val_loss: 0.0025 - val_orient_output_loss: 0.0025 - val_orient_output_mae: 0.6100\n",
      "Epoch 18/20\n",
      "169/169 [==============================] - 5s 27ms/step - loss: 0.0026 - orient_output_loss: 0.0026 - orient_output_mae: 0.6137 - val_loss: 0.0027 - val_orient_output_loss: 0.0027 - val_orient_output_mae: 0.6092\n",
      "Epoch 19/20\n",
      "169/169 [==============================] - 5s 28ms/step - loss: 0.0023 - orient_output_loss: 0.0023 - orient_output_mae: 0.6130 - val_loss: 0.0023 - val_orient_output_loss: 0.0023 - val_orient_output_mae: 0.6090\n",
      "Epoch 20/20\n",
      "169/169 [==============================] - 5s 27ms/step - loss: 0.0023 - orient_output_loss: 0.0023 - orient_output_mae: 0.6124 - val_loss: 0.0024 - val_orient_output_loss: 0.0024 - val_orient_output_mae: 0.6067\n"
     ]
    },
    {
     "data": {
      "text/plain": [
       "<keras.src.callbacks.History at 0x15c21c350>"
      ]
     },
     "execution_count": 10,
     "metadata": {},
     "output_type": "execute_result"
    }
   ],
   "source": [
    "# --- Section 5: Train orientation branch on arrows ---\n",
    "Xtr_arrow, Xva_arrow, y_class_tr_arrow, y_class_va_arrow, y_orient_tr_arrow, y_orient_va_arrow = train_test_split(\n",
    "    X_arrow, y_class_arrow, y_orient_arrow, test_size=0.1, random_state=42\n",
    ")\n",
    "\n",
    "es = EarlyStopping(patience=20, restore_best_weights=True)\n",
    "\n",
    "# Freeze classification branch\n",
    "model.get_layer(\"class_output\").trainable = False\n",
    "model.get_layer(\"orient_output\").trainable = True\n",
    "\n",
    "# Recompile with only orientation loss\n",
    "model.compile(\n",
    "    optimizer=\"adam\",\n",
    "    loss={\"orient_output\": angle_loss},\n",
    "    metrics={\"orient_output\": \"mae\"}\n",
    ")\n",
    "\n",
    "# Train only on vertical arrows\n",
    "model.fit(\n",
    "    Xtr_arrow,\n",
    "    {\"orient_output\": y_orient_tr_arrow},\n",
    "    validation_data=(Xva_arrow, {\"orient_output\": y_orient_va_arrow}),\n",
    "    batch_size=64,\n",
    "    epochs=20,\n",
    "    callbacks=[es]\n",
    ")"
   ]
  },
  {
   "cell_type": "code",
   "execution_count": 12,
   "id": "a0afdc09",
   "metadata": {},
   "outputs": [
    {
     "name": "stdout",
     "output_type": "stream",
     "text": [
      "Epoch 1/20\n",
      "WARNING:tensorflow:Gradients do not exist for variables ['dense_3/kernel:0', 'dense_3/bias:0'] when minimizing the loss. If you're using `model.compile()`, did you forget to provide a `loss` argument?\n",
      "WARNING:tensorflow:Gradients do not exist for variables ['dense_3/kernel:0', 'dense_3/bias:0'] when minimizing the loss. If you're using `model.compile()`, did you forget to provide a `loss` argument?\n",
      "WARNING:tensorflow:Gradients do not exist for variables ['dense_3/kernel:0', 'dense_3/bias:0'] when minimizing the loss. If you're using `model.compile()`, did you forget to provide a `loss` argument?\n",
      "WARNING:tensorflow:Gradients do not exist for variables ['dense_3/kernel:0', 'dense_3/bias:0'] when minimizing the loss. If you're using `model.compile()`, did you forget to provide a `loss` argument?\n",
      "528/528 [==============================] - 16s 28ms/step - loss: 0.1291 - class_output_loss: 0.1291 - class_output_accuracy: 0.9640 - val_loss: 0.1644 - val_class_output_loss: 0.1644 - val_class_output_accuracy: 0.9526\n",
      "Epoch 2/20\n",
      "528/528 [==============================] - 14s 27ms/step - loss: 0.1196 - class_output_loss: 0.1196 - class_output_accuracy: 0.9673 - val_loss: 0.1775 - val_class_output_loss: 0.1775 - val_class_output_accuracy: 0.9518\n",
      "Epoch 3/20\n",
      "528/528 [==============================] - 15s 28ms/step - loss: 0.1102 - class_output_loss: 0.1102 - class_output_accuracy: 0.9703 - val_loss: 0.1742 - val_class_output_loss: 0.1742 - val_class_output_accuracy: 0.9534\n",
      "Epoch 4/20\n",
      "528/528 [==============================] - 15s 29ms/step - loss: 0.1031 - class_output_loss: 0.1031 - class_output_accuracy: 0.9720 - val_loss: 0.1863 - val_class_output_loss: 0.1863 - val_class_output_accuracy: 0.9512\n",
      "Epoch 5/20\n",
      "528/528 [==============================] - 15s 29ms/step - loss: 0.0960 - class_output_loss: 0.0960 - class_output_accuracy: 0.9743 - val_loss: 0.1922 - val_class_output_loss: 0.1922 - val_class_output_accuracy: 0.9507\n",
      "Epoch 6/20\n",
      "528/528 [==============================] - 14s 26ms/step - loss: 0.0875 - class_output_loss: 0.0875 - class_output_accuracy: 0.9777 - val_loss: 0.2228 - val_class_output_loss: 0.2228 - val_class_output_accuracy: 0.9454\n",
      "Epoch 7/20\n",
      "528/528 [==============================] - 14s 27ms/step - loss: 0.0843 - class_output_loss: 0.0843 - class_output_accuracy: 0.9779 - val_loss: 0.2073 - val_class_output_loss: 0.2073 - val_class_output_accuracy: 0.9510\n",
      "Epoch 8/20\n",
      "528/528 [==============================] - 12s 23ms/step - loss: 0.0766 - class_output_loss: 0.0766 - class_output_accuracy: 0.9801 - val_loss: 0.2140 - val_class_output_loss: 0.2140 - val_class_output_accuracy: 0.9512\n",
      "Epoch 9/20\n",
      "528/528 [==============================] - 13s 24ms/step - loss: 0.0747 - class_output_loss: 0.0747 - class_output_accuracy: 0.9806 - val_loss: 0.2104 - val_class_output_loss: 0.2104 - val_class_output_accuracy: 0.9528\n",
      "Epoch 10/20\n",
      "528/528 [==============================] - 13s 24ms/step - loss: 0.0726 - class_output_loss: 0.0726 - class_output_accuracy: 0.9814 - val_loss: 0.2366 - val_class_output_loss: 0.2366 - val_class_output_accuracy: 0.9515\n",
      "Epoch 11/20\n",
      "528/528 [==============================] - 15s 28ms/step - loss: 0.0663 - class_output_loss: 0.0663 - class_output_accuracy: 0.9839 - val_loss: 0.2664 - val_class_output_loss: 0.2664 - val_class_output_accuracy: 0.9520\n",
      "Epoch 12/20\n",
      "528/528 [==============================] - 14s 27ms/step - loss: 0.0671 - class_output_loss: 0.0671 - class_output_accuracy: 0.9835 - val_loss: 0.2555 - val_class_output_loss: 0.2555 - val_class_output_accuracy: 0.9536\n",
      "Epoch 13/20\n",
      "528/528 [==============================] - 16s 29ms/step - loss: 0.0661 - class_output_loss: 0.0661 - class_output_accuracy: 0.9840 - val_loss: 0.2837 - val_class_output_loss: 0.2837 - val_class_output_accuracy: 0.9499\n",
      "Epoch 14/20\n",
      "528/528 [==============================] - 17s 32ms/step - loss: 0.0679 - class_output_loss: 0.0679 - class_output_accuracy: 0.9830 - val_loss: 0.2811 - val_class_output_loss: 0.2811 - val_class_output_accuracy: 0.9486\n",
      "Epoch 15/20\n",
      "528/528 [==============================] - 16s 31ms/step - loss: 0.0643 - class_output_loss: 0.0643 - class_output_accuracy: 0.9846 - val_loss: 0.3055 - val_class_output_loss: 0.3055 - val_class_output_accuracy: 0.9483\n",
      "Epoch 16/20\n",
      "528/528 [==============================] - 13s 24ms/step - loss: 0.0639 - class_output_loss: 0.0639 - class_output_accuracy: 0.9841 - val_loss: 0.2838 - val_class_output_loss: 0.2838 - val_class_output_accuracy: 0.9510\n",
      "Epoch 17/20\n",
      "528/528 [==============================] - 12s 24ms/step - loss: 0.0637 - class_output_loss: 0.0637 - class_output_accuracy: 0.9842 - val_loss: 0.3314 - val_class_output_loss: 0.3314 - val_class_output_accuracy: 0.9470\n",
      "Epoch 18/20\n",
      "528/528 [==============================] - 13s 24ms/step - loss: 0.0620 - class_output_loss: 0.0620 - class_output_accuracy: 0.9851 - val_loss: 0.3161 - val_class_output_loss: 0.3161 - val_class_output_accuracy: 0.9496\n",
      "Epoch 19/20\n",
      "528/528 [==============================] - 12s 23ms/step - loss: 0.0622 - class_output_loss: 0.0622 - class_output_accuracy: 0.9849 - val_loss: 0.3074 - val_class_output_loss: 0.3074 - val_class_output_accuracy: 0.9494\n",
      "Epoch 20/20\n",
      "528/528 [==============================] - 13s 25ms/step - loss: 0.0651 - class_output_loss: 0.0651 - class_output_accuracy: 0.9839 - val_loss: 0.3535 - val_class_output_loss: 0.3535 - val_class_output_accuracy: 0.9496\n"
     ]
    },
    {
     "data": {
      "text/plain": [
       "<keras.src.callbacks.History at 0x189d63510>"
      ]
     },
     "execution_count": 12,
     "metadata": {},
     "output_type": "execute_result"
    }
   ],
   "source": [
    "# --- Section 6: Train classification branch on all classes ---\n",
    "Xtr_cls, Xva_cls, y_class_tr_cls, y_class_va_cls, y_orient_tr_cls, y_orient_va_cls = train_test_split(\n",
    "    X, y_class, y_orient, test_size=0.1, random_state=42\n",
    ")\n",
    "\n",
    "es_cls = EarlyStopping(patience=20, restore_best_weights=True)\n",
    "\n",
    "# Freeze orientation branch\n",
    "# Freeze only the orientation *output* layer\n",
    "for layer in model.layers:\n",
    "    if layer.name == \"orient_output\":\n",
    "        layer.trainable = False\n",
    "    else:\n",
    "        layer.trainable = True  # keep backbone + class head trainable\n",
    "\n",
    "\n",
    "# Recompile with only classification loss\n",
    "model.compile(\n",
    "    optimizer=\"adam\",\n",
    "    loss={\"class_output\": \"sparse_categorical_crossentropy\"},\n",
    "    metrics={\"class_output\": \"accuracy\"}\n",
    ")\n",
    "\n",
    "# Train only on class labels (all classes)\n",
    "model.fit(\n",
    "    Xtr_cls,\n",
    "    {\"class_output\": y_class_tr_cls},\n",
    "    validation_data=(Xva_cls, {\"class_output\": y_class_va_cls}),\n",
    "    batch_size=64,\n",
    "    epochs=20,\n",
    "    callbacks=[es_cls]\n",
    ")"
   ]
  },
  {
   "cell_type": "code",
   "execution_count": 44,
   "id": "ff65a2de",
   "metadata": {},
   "outputs": [],
   "source": [
    "# --- Section 7: Prediction utility ---\n",
    "def predict_and_show_rotated(img_rotated, model, class_names=CLASS_NAMES):\n",
    "    img_input = img_rotated.astype(\"float32\")/255.0\n",
    "    img_input = img_input[...,None]\n",
    "    img_input = np.expand_dims(img_input, axis=0)\n",
    "\n",
    "    class_pred, orient_pred = model.predict(img_input, verbose=0)\n",
    "    pred_class_idx = np.argmax(class_pred, axis=1)[0]\n",
    "    pred_class_name = class_names[pred_class_idx]\n",
    "    sin_pred, cos_pred = orient_pred[0]\n",
    "\n",
    "    norm = np.sqrt(sin_pred**2 + cos_pred**2)\n",
    "    sin_pred /= norm\n",
    "    cos_pred /= norm\n",
    "    pred_orientation = np.rad2deg(np.arctan2(sin_pred, cos_pred)) % 360\n",
    "\n",
    "    plt.imshow(img_rotated, cmap='gray')\n",
    "    plt.axis('off')\n",
    "    plt.title(f\"{pred_class_name}\\nPredicted orientation: {pred_orientation:.1f}°\")\n",
    "\n",
    "    center = (14,14)\n",
    "    length = 10\n",
    "    angle_rad = np.deg2rad(pred_orientation)\n",
    "    dx = length * np.cos(angle_rad)\n",
    "    dy = -length * np.sin(angle_rad)\n",
    "    plt.arrow(center[0], center[1], dx, dy, color='red', head_width=2, head_length=3)\n",
    "    plt.show()\n",
    "\n",
    "    return pred_class_name, pred_orientation\n"
   ]
  },
  {
   "cell_type": "code",
   "execution_count": 41,
   "id": "7b1d9b98",
   "metadata": {},
   "outputs": [],
   "source": [
    "from scipy.ndimage import rotate\n",
    "\n",
    "# Load vertical_arrows class\n",
    "arr = np.load(\"data/vertical_arrows.npy\")  # shape (N, 784)\n",
    "\n",
    "# Pick the 4th sample (index 3)\n",
    "img_flat = arr[200]\n",
    "\n",
    "# Choose a random rotation angle (0–360 degrees)\n",
    "angle = np.random.uniform(0, 360)\n",
    "\n",
    "# Rotate the image\n",
    "img_rotated = rotate(img_flat.reshape(28,28), angle, reshape=False, order=1, mode='constant')"
   ]
  },
  {
   "cell_type": "code",
   "execution_count": 42,
   "id": "487f132d",
   "metadata": {},
   "outputs": [
    {
     "data": {
      "image/png": "[encoded data removed]",
      "text/plain": [
       "<Figure size 640x480 with 1 Axes>"
      ]
     },
     "metadata": {},
     "output_type": "display_data"
    },
    {
     "name": "stdout",
     "output_type": "stream",
     "text": [
      "Rotation angle: 310.5032400629324\n"
     ]
    }
   ],
   "source": [
    "plt.imshow(img_rotated, cmap='gray')\n",
    "plt.title(f\"Rotated image by {angle:.1f} degrees\")\n",
    "plt.axis('off')\n",
    "plt.show()\n",
    "\n",
    "print(\"Rotation angle:\", angle)"
   ]
  },
  {
   "cell_type": "code",
   "execution_count": 43,
   "id": "f1473ba7",
   "metadata": {},
   "outputs": [
    {
     "data": {
      "image/png": "[encoded data removed]",
      "text/plain": [
       "<Figure size 640x480 with 1 Axes>"
      ]
     },
     "metadata": {},
     "output_type": "display_data"
    }
   ],
   "source": [
    "pred_class, pred_orient = predict_and_show_rotated(img_rotated, model)"
   ]
  },
  {
   "cell_type": "code",
   "execution_count": 40,
   "id": "182b0195",
   "metadata": {},
   "outputs": [
    {
     "name": "stdout",
     "output_type": "stream",
     "text": [
      "circle: 5000 samples\n",
      "square: 5000 samples\n",
      "triangle: 5000 samples\n",
      "star: 5000 samples\n",
      "vertical_arrows: 12000 samples\n",
      "axis: 511 samples\n",
      "other: 5000 samples\n"
     ]
    }
   ],
   "source": [
    "for i, cname in enumerate(CLASS_NAMES):\n",
    "    count = np.sum(y_class == i)\n",
    "    print(f\"{cname}: {count} samples\")"
   ]
  }
 ],
 "metadata": {
  "kernelspec": {
   "display_name": "doodle-autocomplete",
   "language": "python",
   "name": "python3"
  },
  "language_info": {
   "codemirror_mode": {
    "name": "ipython",
    "version": 3
   },
   "file_extension": ".py",
   "mimetype": "text/x-python",
   "name": "python",
   "nbconvert_exporter": "python",
   "pygments_lexer": "ipython3",
   "version": "3.11.1"
  }
 },
 "nbformat": 4,
 "nbformat_minor": 5
}
