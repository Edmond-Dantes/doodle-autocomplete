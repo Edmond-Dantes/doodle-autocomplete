{
 "cells": [
  {
   "cell_type": "markdown",
   "id": "a42a5dce",
   "metadata": {},
   "source": [
    "# Contents of this Notebook\n",
    "• Quick look at some images in the dataset\n",
    "\n",
    "• Download a few categories of shape positives and some categories to distinguish those from\n",
    "\n",
    "• Download the classification text file\n",
    "\n",
    "• Set some core variables needed throughout\n",
    "\n",
    "• Load flattened arrays (N, 784) → reshape to (N, 28, 28)\n",
    "\n",
    "• Organise data into X and y\n",
    "\n",
    "• Define and compile the model\n",
    "\n",
    "• Test train split\n",
    "\n",
    "• Training\n",
    "\n",
    "• Preview, graphs, refinement\n",
    "\n",
    "• Saving the model and converting it into a javascript model (tensorflowjs) via terminal commands\n",
    "\n"
   ]
  },
  {
   "cell_type": "code",
   "execution_count": 12,
   "id": "8a0fef71",
   "metadata": {},
   "outputs": [],
   "source": [
    "from quickdraw import QuickDrawDataGroup\n",
    "from IPython.display import display\n",
    "import os, urllib.request\n",
    "import requests\n",
    "import tensorflow as tf\n",
    "from tensorflow.keras import layers, models\n",
    "from tensorflow.keras.callbacks import EarlyStopping\n",
    "from sklearn.model_selection import train_test_split\n",
    "from scipy.ndimage import rotate\n",
    "import matplotlib.pyplot as plt\n",
    "import json, pathlib\n",
    "import numpy as np\n",
    "\n",
    "from sklearn.metrics import classification_report, confusion_matrix"
   ]
  },
  {
   "cell_type": "code",
   "execution_count": 63,
   "id": "5633d94c",
   "metadata": {},
   "outputs": [],
   "source": [
    "DATA_DIR = \"data\"  # where your .npy files are\n",
    "\n",
    "TARGETS = [\n",
    "    \"circle\",\n",
    "    \"square\",\n",
    "    \"triangle\",\n",
    "    \"star\",\n",
    "    \"vertical_line\",\n",
    "    \"vertical_arrows\",\n",
    "    \"axis\",\n",
    "    \"bat\",\n",
    "    \"car\",\n",
    "    \"cat\",\n",
    "    \"eyeglasses\",\n",
    "    \"face\",\n",
    "    \"hat\",\n",
    "    \"microphone\",\n",
    "    \"moon\",\n",
    "    \"sailboat\"\n",
    "    ]\n",
    "OTHERS = [\"house\", \"tree\", \"zigzag\", \"hockey%20stick\", \"arm\", \"cloud\", \"hexagon\", \"paint%20can\"]\n",
    "\n",
    "CLASS_NAMES = TARGETS #+ [\"other\"]\n",
    "CLASS_TO_ID = {c:i for i,c in enumerate(CLASS_NAMES)}\n",
    "\n",
    "classes = TARGETS #+ OTHERS"
   ]
  },
  {
   "cell_type": "code",
   "execution_count": 62,
   "id": "33a75553",
   "metadata": {},
   "outputs": [
    {
     "data": {
      "text/plain": [
       "['circle',\n",
       " 'square',\n",
       " 'triangle',\n",
       " 'star',\n",
       " 'vertical_line',\n",
       " 'vertical_arrows',\n",
       " 'axis',\n",
       " 'bat',\n",
       " 'car',\n",
       " 'cat',\n",
       " 'eyeglasses',\n",
       " 'face',\n",
       " 'hat',\n",
       " 'microphone',\n",
       " 'moon',\n",
       " 'sailboat',\n",
       " 'other']"
      ]
     },
     "execution_count": 62,
     "metadata": {},
     "output_type": "execute_result"
    }
   ],
   "source": [
    "CLASS_NAMES"
   ]
  },
  {
   "cell_type": "code",
   "execution_count": 20,
   "id": "782911f5",
   "metadata": {},
   "outputs": [
    {
     "name": "stdout",
     "output_type": "stream",
     "text": [
      "downloading https://storage.googleapis.com/quickdraw_dataset/full/numpy_bitmap/microphone.npy\n",
      "downloading https://storage.googleapis.com/quickdraw_dataset/full/numpy_bitmap/moon.npy\n",
      "downloading https://storage.googleapis.com/quickdraw_dataset/full/numpy_bitmap/sailboat.npy\n",
      "downloading https://storage.googleapis.com/quickdraw_dataset/full/numpy_bitmap/hexagon.npy\n",
      "downloading https://storage.googleapis.com/quickdraw_dataset/full/numpy_bitmap/paint%20can.npy\n",
      "done\n"
     ]
    }
   ],
   "source": [
    "\n",
    "os.makedirs(DATA_DIR, exist_ok=True) #make the data directory if you don't have it on your machine\n",
    "\n",
    "base = \"https://storage.googleapis.com/quickdraw_dataset/full/numpy_bitmap\"\n",
    "\n",
    "for c in classes:\n",
    "    url = f\"{base}/{c}.npy\"\n",
    "    dst = os.path.join(DATA_DIR, f\"{c}.npy\")\n",
    "    if not os.path.exists(dst):\n",
    "        print(\"downloading\", url)\n",
    "        urllib.request.urlretrieve(url, dst)\n",
    "print(\"done\")"
   ]
  },
  {
   "cell_type": "markdown",
   "id": "f0d03e0f",
   "metadata": {},
   "source": [
    "# 1. About the data - What Google did with QuickDraw\n",
    "\n",
    "Each QuickDraw doodle was drawn by a person as a sequence of strokes (vector data).\n",
    "\n",
    "Google rasterised those strokes into 28 × 28 pixel images, grayscale.\n",
    "\n",
    "Each pixel is **grayscale** — it holds an intensity value from 0 to 255 (0 = black, 255 = white, or sometimes inverted depending on convention).\n",
    "\n",
    "To make the dataset compact, they then flattened each 28×28 image into a 1D vector of length 784 (because 28 × 28 = 784)."
   ]
  },
  {
   "cell_type": "code",
   "execution_count": 21,
   "id": "0e7376ad",
   "metadata": {},
   "outputs": [],
   "source": [
    "def load_npy(path, limit=None):\n",
    "    \"\"\"\n",
    "    Quick, Draw! numpy_bitmap .npy: shape (N, 784) uint8.\n",
    "    Returns (N, 28, 28) uint8.\n",
    "    \"\"\"\n",
    "    arr = np.load(path)                 # (N, 784) uint8\n",
    "    if limit is not None:\n",
    "        arr = arr[:limit]\n",
    "    return arr.reshape(-1, 28, 28)      # -> (N,28,28)"
   ]
  },
  {
   "cell_type": "markdown",
   "id": "a61e6d1b",
   "metadata": {},
   "source": [
    "# Logic of the data distribution in the model\n",
    "Some false positive classes were included to train the model - it needs to learn not only to recognise circles and squares but also to disregard random stuff. The random stuff included in this model is:\n",
    "\n",
    " \"face\", \"cat\", \"cloud\", \"house\", \"tree\"\n",
    "\n",
    " But this could be increased to make a better model.\n",
    "\n",
    " Below the function therefore deals with both of those.\n",
    "\n",
    "\n",
    "# What the function returns\n",
    "\n",
    "X: all images, normalised to [0,1] and shaped (N, 28, 28, 1) (float32).\n",
    "\n",
    "y: one integer label per image, shaped (N,) (int64). Uses your CLASS_TO_ID mapping."
   ]
  },
  {
   "cell_type": "code",
   "execution_count": 22,
   "id": "21263752",
   "metadata": {},
   "outputs": [],
   "source": [
    "def build_arrays(data_dir, per_class=8000, other_total=5000, seed=0):\n",
    "    rng = np.random.default_rng(seed)  # for a reproducible final shuffle\n",
    "\n",
    "    Xs, ys = [], []  # we collect per-class arrays here (features X, labels y)\n",
    "\n",
    "    # 1) TARGET classes: circle/square/triangle/star\n",
    "    for cname in TARGETS:\n",
    "        Xc = load_npy(os.path.join(data_dir, f\"{cname}.npy\"), per_class)\n",
    "        # Xc: (per_class, 28, 28) uint8 — the images for this target class\n",
    "        yc = np.full(len(Xc), CLASS_TO_ID[cname], dtype=np.int64)\n",
    "        # yc: (per_class,) int64 — the labels for this class, all the same id\n",
    "        Xs.append(Xc)\n",
    "        ys.append(yc)\n",
    "\n",
    "    # 2) \"OTHER\" bucket: pool several categories into one label\n",
    "    per_other = max(1, other_total // len(OTHERS))  # try to sample evenly\n",
    "    other_parts = []\n",
    "    for cname in OTHERS:\n",
    "        Xo_part = load_npy(os.path.join(data_dir, f\"{cname}.npy\"), per_other)\n",
    "        other_parts.append(Xo_part)\n",
    "    Xo = np.concatenate(other_parts, axis=0)             # (~other_total, 28, 28)\n",
    "    yo = np.full(len(Xo), CLASS_TO_ID[\"other\"], dtype=np.int64)  # same id for all\n",
    "\n",
    "\n",
    "    # 3) Concatenate everything into single feature/label arrays\n",
    "    X = np.concatenate(Xs + [Xo], axis=0)  # (N, 28, 28) uint8\n",
    "    y = np.concatenate(ys + [yo], axis=0)  # (N,)        int64\n",
    "\n",
    "    # 4) Normalise & add channel dim for Keras (channels-last)\n",
    "    X = (X.astype(\"float32\") / 255.0)[..., None]  # (N, 28, 28, 1) float32\n",
    "\n",
    "    # 5) Final shuffle to mix classes so batches aren’t blocky\n",
    "    idx = rng.permutation(len(X))\n",
    "    return X[idx], y[idx]\n"
   ]
  },
  {
   "cell_type": "code",
   "execution_count": 24,
   "id": "75ffa9c9",
   "metadata": {},
   "outputs": [
    {
     "data": {
      "text/plain": [
       "((80511, 28, 28, 1),\n",
       " (80511,),\n",
       " array([5000, 5000, 5000, 5000, 5000, 5000,  511, 5000, 5000, 5000, 5000,\n",
       "        5000, 5000, 5000, 5000, 5000, 5000]))"
      ]
     },
     "execution_count": 24,
     "metadata": {},
     "output_type": "execute_result"
    }
   ],
   "source": [
    "X, y = build_arrays(DATA_DIR, per_class=5000, other_total=5000)  # ~15k total\n",
    "X.shape, y.shape, np.bincount(y)\n",
    "# Expect: ((~15000, 28, 28, 1), (~15000,), counts per class)"
   ]
  },
  {
   "cell_type": "code",
   "execution_count": 25,
   "id": "87ba503b",
   "metadata": {},
   "outputs": [
    {
     "name": "stdout",
     "output_type": "stream",
     "text": [
      "(10000, 28, 28, 1) (10000, 2)\n"
     ]
    }
   ],
   "source": [
    "def build_vertical_arrows(data_dir, max_samples=500, rotations_per_img=20, seed=0):\n",
    "    rng = np.random.default_rng(seed)\n",
    "\n",
    "    # Load the base vertical arrows\n",
    "    path = os.path.join(data_dir, \"vertical_arrows.npy\")\n",
    "    X_base = load_npy(path)\n",
    "\n",
    "    # Subsample if too many\n",
    "    if len(X_base) > max_samples:\n",
    "        X_base = rng.choice(X_base, size=max_samples, replace=False)\n",
    "\n",
    "    # Augment with rotations\n",
    "    Xs, yos = [], []\n",
    "    angles = np.linspace(0, 360, rotations_per_img, endpoint=False)\n",
    "    for img in X_base:\n",
    "        for angle in angles:\n",
    "            Xs.append(rotate(img, angle, reshape=False, order=1, mode='constant'))\n",
    "            yos.append(angle)\n",
    "\n",
    "    # Convert to arrays\n",
    "    X = np.array(Xs)[..., None].astype(\"float32\") / 255.0  # (N,28,28,1)\n",
    "    yo_rad = np.deg2rad(np.array(yos))\n",
    "    y_orient = np.stack([np.sin(yo_rad), np.cos(yo_rad)], axis=1)  # (N,2)\n",
    "\n",
    "    # Shuffle\n",
    "    idx = rng.permutation(len(X))\n",
    "    return X[idx], y_orient[idx]\n",
    "\n",
    "# Example usage\n",
    "X_arr, y_arr_orient = build_vertical_arrows(DATA_DIR)\n",
    "print(X_arr.shape, y_arr_orient.shape)"
   ]
  },
  {
   "cell_type": "code",
   "execution_count": null,
   "id": "4fb3332f",
   "metadata": {},
   "outputs": [],
   "source": [
    "'''\n",
    "def make_preprocess():\n",
    "  preprocess = tf.keras.Sequential([\n",
    "    keras.layers.RandomBrightness(factor=0.4),\n",
    "    keras.layers.Rescaling(1./255),\n",
    "    keras.layers.RandomFlip(\"horizontal_and_vertical\"),\n",
    "    keras.layers.RandomRotation(0.8),\n",
    "  ])\n",
    "\n",
    "  return preprocess\n",
    "\n",
    "def make_model1():\n",
    "  model = keras.Sequential([\n",
    "    keras.Input(shape=(225, 225, 3)),\n",
    "    keras.layers.Conv2D(6, kernel_size=(3, 3), activation='relu'),\n",
    "    keras.layers.Conv2D(4, kernel_size=(3), activation='relu'), # kernel_size = 3 <==> (3, 3)\n",
    "    keras.layers.Flatten(),\n",
    "    keras.layers.Dense(1, activation='sigmoid')\n",
    "  ])\n",
    "\n",
    "  return model\n",
    "\n",
    "def make_model2():\n",
    "  model = keras.Sequential([\n",
    "    keras.Input(shape=(225, 225, 3)),\n",
    "    keras.layers.Conv2D(6, kernel_size=(3, 3), activation='relu'),\n",
    "    keras.layers.Conv2D(4, kernel_size=(3), activation='relu'), # kernel_size = 3 <==> (3, 3)\n",
    "    keras.layers.Flatten(),\n",
    "    keras.layers.Dense(1, activation='sigmoid')\n",
    "  ])\n",
    "\n",
    "  return model\n",
    "\n",
    "def make_combined_model():\n",
    "  model1 = make_model1()\n",
    "  model2 = make_model2()\n",
    "\n",
    "  input_layer = keras.Input(shape=(225, 225, 3)) # your input layer\n",
    "  output1 = model1(input_layer)\n",
    "  output2 = model2(input_layer)\n",
    "\n",
    "  model = keras.Model(inputs=input_layer, outputs=[output1, output2])\n",
    "  return model1, model2, model\n",
    "\n",
    "def make_combined_model_with_preprocessor():\n",
    "  preprocess = make_preprocess()\n",
    "  model1, model2, model_nopreprocess = make_combined_model()\n",
    "\n",
    "  full_model = keras.Sequential([\n",
    "    keras.Input(shape=(225, 225, 3)),\n",
    "    preprocess,\n",
    "    model_nopreprocess\n",
    "  ])\n",
    "\n",
    "  return model1, model2, preprocess, model_nopreprocess, full_model\n",
    "\n",
    "_, _, _, model_nopreprocess, full_model = make_combined_model_with_preprocessor()\n",
    "\n",
    "full_model.compile() # might need some args\n",
    "full_model.fit(X,y)\n",
    "\n",
    "# save the part of the model AFTER data agumentation pipeline\n",
    "model_nopreprocess.save() # might need some args\n",
    "\n",
    "'''\n"
   ]
  },
  {
   "cell_type": "code",
   "execution_count": null,
   "id": "ba40b926",
   "metadata": {},
   "outputs": [],
   "source": [
    "# def make_preprocess():\n",
    "#   preprocess = tf.keras.Sequential([\n",
    "#     layers.RandomFlip(\"horizontal_and_vertical\"),\n",
    "#     layers.RandomRotation(0.15, fill_mode=\"constant\", fill_value=0.0)\n",
    "#   ])\n",
    "#   return preprocess"
   ]
  },
  {
   "cell_type": "code",
   "execution_count": 28,
   "id": "63f25764",
   "metadata": {},
   "outputs": [],
   "source": [
    "def initialize_model():\n",
    "    n_classes = len(CLASS_NAMES) # all classes except vertical_arrows\n",
    "\n",
    "    # 1) the clean model (this is the one you’ll export / use later)\n",
    "    model = models.Sequential([\n",
    "        layers.Input(shape=(28,28,1)),\n",
    "        layers.Conv2D(16, 3, padding=\"same\", activation=\"relu\"),\n",
    "        layers.MaxPooling2D(2),                  # 28→14\n",
    "        layers.Conv2D(32, 3, padding=\"same\", activation=\"relu\"),\n",
    "        layers.MaxPooling2D(2),                  # 14→7\n",
    "        layers.Flatten(),\n",
    "        layers.Dense(64, activation=\"relu\"),\n",
    "        layers.Dense(n_classes, activation=\"softmax\"),\n",
    "    ], name=\"classifier\")\n",
    "    ''' commented out use of data augmentation pipeline due to complications with tldraw'''\n",
    "    # # 2) augmentation pipeline\n",
    "    # data_augmentation = models.Sequential([\n",
    "    #     layers.RandomFlip(\"horizontal_and_vertical\"),\n",
    "    #     layers.RandomRotation(0.15, fill_mode=\"constant\", fill_value=0.0),\n",
    "    # ], name=\"aug\")\n",
    "    # 3) training model = aug + model\n",
    "    train_model = models.Sequential([\n",
    "        layers.Input(shape=(28,28,1)),\n",
    "        #data_augmentation\n",
    "        model\n",
    "    ], name=\"train_model\")\n",
    "\n",
    "    train_model.compile(optimizer=tf.keras.optimizers.Adam(1e-3),\n",
    "                        loss=\"sparse_categorical_crossentropy\",\n",
    "                        metrics=[\"accuracy\"])\n",
    "\n",
    "    train_model.summary()\n",
    "\n",
    "    return train_model\n"
   ]
  },
  {
   "cell_type": "code",
   "execution_count": 29,
   "id": "48a0574e",
   "metadata": {},
   "outputs": [
    {
     "name": "stdout",
     "output_type": "stream",
     "text": [
      "Model: \"train_model\"\n",
      "_________________________________________________________________\n",
      " Layer (type)                Output Shape              Param #   \n",
      "=================================================================\n",
      " classifier (Sequential)     (None, 17)                106321    \n",
      "                                                                 \n",
      "=================================================================\n",
      "Total params: 106321 (415.32 KB)\n",
      "Trainable params: 106321 (415.32 KB)\n",
      "Non-trainable params: 0 (0.00 Byte)\n",
      "_________________________________________________________________\n"
     ]
    }
   ],
   "source": [
    "classification_model = initialize_model()"
   ]
  },
  {
   "cell_type": "code",
   "execution_count": 30,
   "id": "f6a188b1",
   "metadata": {},
   "outputs": [
    {
     "name": "stdout",
     "output_type": "stream",
     "text": [
      "Epoch 1/50\n",
      "221/221 [==============================] - 20s 83ms/step - loss: 1.1418 - accuracy: 0.6515 - val_loss: 0.7912 - val_accuracy: 0.7340\n",
      "Epoch 2/50\n",
      "221/221 [==============================] - 18s 81ms/step - loss: 0.6985 - accuracy: 0.7622 - val_loss: 0.6262 - val_accuracy: 0.7827\n",
      "Epoch 3/50\n",
      "221/221 [==============================] - 18s 80ms/step - loss: 0.6103 - accuracy: 0.7898 - val_loss: 0.5824 - val_accuracy: 0.7963\n",
      "Epoch 4/50\n",
      "221/221 [==============================] - 19s 84ms/step - loss: 0.5620 - accuracy: 0.8037 - val_loss: 0.5619 - val_accuracy: 0.8033\n",
      "Epoch 5/50\n",
      "221/221 [==============================] - 19s 84ms/step - loss: 0.5299 - accuracy: 0.8136 - val_loss: 0.5394 - val_accuracy: 0.8103\n",
      "Epoch 6/50\n",
      "221/221 [==============================] - 19s 84ms/step - loss: 0.5071 - accuracy: 0.8214 - val_loss: 0.5292 - val_accuracy: 0.8116\n",
      "Epoch 7/50\n",
      "221/221 [==============================] - 19s 85ms/step - loss: 0.4865 - accuracy: 0.8266 - val_loss: 0.5222 - val_accuracy: 0.8149\n",
      "Epoch 8/50\n",
      "221/221 [==============================] - 21s 93ms/step - loss: 0.4632 - accuracy: 0.8314 - val_loss: 0.5205 - val_accuracy: 0.8169\n",
      "Epoch 9/50\n",
      "221/221 [==============================] - 18s 83ms/step - loss: 0.4477 - accuracy: 0.8362 - val_loss: 0.4986 - val_accuracy: 0.8242\n",
      "Epoch 10/50\n",
      "221/221 [==============================] - 22s 101ms/step - loss: 0.4325 - accuracy: 0.8404 - val_loss: 0.5140 - val_accuracy: 0.8184\n",
      "Epoch 11/50\n",
      "221/221 [==============================] - 38s 173ms/step - loss: 0.4178 - accuracy: 0.8457 - val_loss: 0.4925 - val_accuracy: 0.8260\n",
      "Epoch 12/50\n",
      "221/221 [==============================] - 20s 90ms/step - loss: 0.4043 - accuracy: 0.8489 - val_loss: 0.4829 - val_accuracy: 0.8275\n",
      "Epoch 13/50\n",
      "221/221 [==============================] - 21s 95ms/step - loss: 0.3884 - accuracy: 0.8521 - val_loss: 0.4919 - val_accuracy: 0.8250\n",
      "Epoch 14/50\n",
      "221/221 [==============================] - 17s 79ms/step - loss: 0.3752 - accuracy: 0.8564 - val_loss: 0.4729 - val_accuracy: 0.8311\n",
      "Epoch 15/50\n",
      "221/221 [==============================] - 18s 80ms/step - loss: 0.3656 - accuracy: 0.8582 - val_loss: 0.4888 - val_accuracy: 0.8272\n",
      "Epoch 16/50\n",
      "221/221 [==============================] - 19s 84ms/step - loss: 0.3509 - accuracy: 0.8624 - val_loss: 0.4798 - val_accuracy: 0.8316\n",
      "Epoch 17/50\n",
      "221/221 [==============================] - 20s 90ms/step - loss: 0.3379 - accuracy: 0.8669 - val_loss: 0.4905 - val_accuracy: 0.8282\n",
      "Epoch 18/50\n",
      "221/221 [==============================] - 20s 92ms/step - loss: 0.3280 - accuracy: 0.8694 - val_loss: 0.5055 - val_accuracy: 0.8260\n",
      "Epoch 19/50\n",
      "221/221 [==============================] - 21s 95ms/step - loss: 0.3177 - accuracy: 0.8723 - val_loss: 0.4964 - val_accuracy: 0.8300\n"
     ]
    }
   ],
   "source": [
    "Xtr, Xva, ytr, yva = train_test_split(X, y, test_size=0.3, random_state=39, stratify=y)\n",
    "\n",
    "es = EarlyStopping(patience=5, restore_best_weights=True)\n",
    "\n",
    "# 4) fit with train_model\n",
    "history = classification_model.fit(\n",
    "    Xtr, ytr,\n",
    "    validation_data=(Xva, yva),\n",
    "    epochs=50, batch_size=256, verbose=1, callbacks=[es]\n",
    ")\n",
    "\n",
    "# # 5) when exporting: save only the clean classifier\n",
    "# model.save(\"shapes_tinycnn_keras.h5\")"
   ]
  },
  {
   "cell_type": "code",
   "execution_count": 51,
   "id": "b33347ca",
   "metadata": {},
   "outputs": [
    {
     "data": {
      "text/plain": [
       "<keras.src.engine.sequential.Sequential at 0x187e36990>"
      ]
     },
     "execution_count": 51,
     "metadata": {},
     "output_type": "execute_result"
    }
   ],
   "source": [
    "classification_model"
   ]
  },
  {
   "cell_type": "code",
   "execution_count": 31,
   "id": "5d67e94b",
   "metadata": {},
   "outputs": [],
   "source": [
    "def angular_loss(y_true, y_pred):\n",
    "    # normalize\n",
    "    y_true = tf.math.l2_normalize(y_true, axis=-1)\n",
    "    y_pred = tf.math.l2_normalize(y_pred, axis=-1)\n",
    "    # cosine similarity = cos(θ_error)\n",
    "    cos_sim = tf.reduce_sum(y_true * y_pred, axis=-1)\n",
    "    return 1 - cos_sim  # smaller is better\n",
    "\n",
    "\n",
    "def initialize_orientation_model(input_shape=(28, 28, 1), model=None):\n",
    "    '''\n",
    "        if model:\n",
    "            load the model from .h5\n",
    "\n",
    "        else:\n",
    "            define model architecture\n",
    "            fit\n",
    "\n",
    "    '''\n",
    "    model = models.Sequential([\n",
    "        # Feature extractor\n",
    "        layers.Conv2D(32, (3, 3), activation=\"relu\", input_shape=input_shape),\n",
    "        layers.MaxPooling2D((2, 2)),\n",
    "\n",
    "        layers.Conv2D(64, (3, 3), activation=\"relu\"),\n",
    "        layers.MaxPooling2D((2, 2)),\n",
    "\n",
    "        layers.Conv2D(128, (3, 3), activation=\"relu\"),\n",
    "        layers.Flatten(),\n",
    "\n",
    "        # Dense regression head\n",
    "        layers.Dense(128, activation=\"relu\"),\n",
    "        layers.Dropout(0.3),\n",
    "        layers.Dense(64, activation=\"relu\"),\n",
    "\n",
    "        # Output: (sin, cos)\n",
    "        layers.Dense(2, activation=\"linear\")\n",
    "    ])\n",
    "\n",
    "    # Compile with angular loss\n",
    "    model.compile(\n",
    "        optimizer=tf.keras.optimizers.Adam(1e-3),\n",
    "        loss=angular_loss,\n",
    "        metrics=[\"mae\"]\n",
    "    )\n",
    "\n",
    "    return model"
   ]
  },
  {
   "cell_type": "markdown",
   "id": "7133c0b9",
   "metadata": {},
   "source": []
  },
  {
   "cell_type": "code",
   "execution_count": 33,
   "id": "cdcc1627",
   "metadata": {},
   "outputs": [],
   "source": [
    "def show_image(img, y):\n",
    "    \"\"\"\n",
    "    Display a (28, 28, 1) numpy matrix as a grayscale image.\n",
    "    \"\"\"\n",
    "    if img.shape == (28, 28, 1):\n",
    "        img = img.squeeze()  # remove the channel dimension -> (28, 28)\n",
    "    plt.imshow(img, cmap='gray')\n",
    "    plt.title(y, fontsize=9)\n",
    "    plt.axis('off')\n",
    "    plt.show()"
   ]
  },
  {
   "cell_type": "code",
   "execution_count": 37,
   "id": "1b4e473c",
   "metadata": {},
   "outputs": [
    {
     "data": {
      "text/plain": [
       "80511"
      ]
     },
     "execution_count": 37,
     "metadata": {},
     "output_type": "execute_result"
    }
   ],
   "source": [
    "len(X)"
   ]
  },
  {
   "cell_type": "code",
   "execution_count": 44,
   "id": "6b6e79bf",
   "metadata": {},
   "outputs": [],
   "source": [
    "rand_index = np.random.randint(0, len(X))"
   ]
  },
  {
   "cell_type": "code",
   "execution_count": 45,
   "id": "53279593",
   "metadata": {},
   "outputs": [
    {
     "data": {
      "text/plain": [
       "55051"
      ]
     },
     "execution_count": 45,
     "metadata": {},
     "output_type": "execute_result"
    }
   ],
   "source": [
    "rand_index"
   ]
  },
  {
   "cell_type": "code",
   "execution_count": 46,
   "id": "3ac076e0",
   "metadata": {},
   "outputs": [
    {
     "data": {
      "image/png": "[encoded data removed]",
      "text/plain": [
       "<Figure size 640x480 with 1 Axes>"
      ]
     },
     "metadata": {},
     "output_type": "display_data"
    }
   ],
   "source": [
    "show_image(X[rand_index], y[rand_index])"
   ]
  },
  {
   "cell_type": "code",
   "execution_count": 112,
   "id": "79b0cbcf",
   "metadata": {},
   "outputs": [],
   "source": [
    "orientation_model = initialize_orientation_model()"
   ]
  },
  {
   "cell_type": "code",
   "execution_count": null,
   "id": "578be6c8",
   "metadata": {},
   "outputs": [
    {
     "name": "stdout",
     "output_type": "stream",
     "text": [
      "Epoch 1/50\n",
      "28/28 [==============================] - 6s 124ms/step - loss: 1.0127 - mae: 0.6400 - val_loss: 0.9767 - val_mae: 0.6423\n",
      "Epoch 2/50\n",
      "28/28 [==============================] - 4s 128ms/step - loss: 1.0083 - mae: 0.6500 - val_loss: 0.9852 - val_mae: 0.6458\n",
      "Epoch 3/50\n",
      "28/28 [==============================] - 4s 134ms/step - loss: 1.0038 - mae: 0.6486 - val_loss: 1.0060 - val_mae: 0.6429\n",
      "Epoch 4/50\n",
      "28/28 [==============================] - 4s 155ms/step - loss: 0.9775 - mae: 0.6374 - val_loss: 0.9768 - val_mae: 0.6306\n",
      "Epoch 5/50\n",
      "28/28 [==============================] - 4s 148ms/step - loss: 0.3289 - mae: 0.6093 - val_loss: 0.1148 - val_mae: 0.5869\n",
      "Epoch 6/50\n",
      "28/28 [==============================] - 4s 127ms/step - loss: 0.0772 - mae: 0.5845 - val_loss: 0.0424 - val_mae: 0.5848\n",
      "Epoch 7/50\n",
      "28/28 [==============================] - 3s 122ms/step - loss: 0.0343 - mae: 0.5892 - val_loss: 0.0133 - val_mae: 0.5935\n",
      "Epoch 8/50\n",
      "28/28 [==============================] - 3s 117ms/step - loss: 0.0173 - mae: 0.5940 - val_loss: 0.0101 - val_mae: 0.5914\n",
      "Epoch 9/50\n",
      "28/28 [==============================] - 3s 121ms/step - loss: 0.0123 - mae: 0.5943 - val_loss: 0.0061 - val_mae: 0.5924\n",
      "Epoch 10/50\n",
      "28/28 [==============================] - 3s 115ms/step - loss: 0.0094 - mae: 0.5957 - val_loss: 0.0052 - val_mae: 0.5952\n",
      "Epoch 11/50\n",
      "28/28 [==============================] - 3s 115ms/step - loss: 0.0083 - mae: 0.5979 - val_loss: 0.0043 - val_mae: 0.5971\n",
      "Epoch 12/50\n",
      "28/28 [==============================] - 4s 129ms/step - loss: 0.0077 - mae: 0.5991 - val_loss: 0.0042 - val_mae: 0.5976\n",
      "Epoch 13/50\n",
      "28/28 [==============================] - 4s 136ms/step - loss: 0.0080 - mae: 0.5996 - val_loss: 0.0039 - val_mae: 0.5964\n",
      "Epoch 14/50\n",
      "28/28 [==============================] - 4s 127ms/step - loss: 0.0072 - mae: 0.5988 - val_loss: 0.0035 - val_mae: 0.5987\n",
      "Epoch 15/50\n",
      "28/28 [==============================] - 3s 123ms/step - loss: 0.0066 - mae: 0.6010 - val_loss: 0.0033 - val_mae: 0.5997\n",
      "Epoch 16/50\n",
      "28/28 [==============================] - 4s 130ms/step - loss: 0.0062 - mae: 0.6006 - val_loss: 0.0032 - val_mae: 0.5998\n",
      "Epoch 17/50\n",
      "28/28 [==============================] - 3s 117ms/step - loss: 0.0060 - mae: 0.6014 - val_loss: 0.0037 - val_mae: 0.5979\n",
      "Epoch 18/50\n",
      "28/28 [==============================] - 3s 114ms/step - loss: 0.0063 - mae: 0.6003 - val_loss: 0.0032 - val_mae: 0.5985\n",
      "Epoch 19/50\n",
      "28/28 [==============================] - 3s 112ms/step - loss: 0.0056 - mae: 0.6010 - val_loss: 0.0029 - val_mae: 0.6005\n",
      "Epoch 20/50\n",
      "28/28 [==============================] - 3s 112ms/step - loss: 0.0053 - mae: 0.6014 - val_loss: 0.0029 - val_mae: 0.6014\n",
      "Epoch 21/50\n",
      "28/28 [==============================] - 3s 118ms/step - loss: 0.0053 - mae: 0.6028 - val_loss: 0.0027 - val_mae: 0.6007\n",
      "Epoch 22/50\n",
      "28/28 [==============================] - 3s 115ms/step - loss: 0.0053 - mae: 0.6028 - val_loss: 0.0027 - val_mae: 0.6007\n",
      "Epoch 23/50\n",
      "28/28 [==============================] - 3s 113ms/step - loss: 0.0049 - mae: 0.6020 - val_loss: 0.0027 - val_mae: 0.6009\n",
      "Epoch 24/50\n",
      "28/28 [==============================] - 4s 127ms/step - loss: 0.0052 - mae: 0.6021 - val_loss: 0.0026 - val_mae: 0.6016\n",
      "Epoch 25/50\n",
      "28/28 [==============================] - 3s 118ms/step - loss: 0.0048 - mae: 0.6029 - val_loss: 0.0029 - val_mae: 0.6017\n",
      "Epoch 26/50\n",
      "28/28 [==============================] - 3s 114ms/step - loss: 0.0047 - mae: 0.6024 - val_loss: 0.0026 - val_mae: 0.6005\n",
      "Epoch 27/50\n",
      "28/28 [==============================] - 3s 119ms/step - loss: 0.0045 - mae: 0.6034 - val_loss: 0.0024 - val_mae: 0.6013\n",
      "Epoch 28/50\n",
      "28/28 [==============================] - 3s 114ms/step - loss: 0.0046 - mae: 0.6029 - val_loss: 0.0027 - val_mae: 0.6011\n",
      "Epoch 29/50\n",
      "28/28 [==============================] - 3s 121ms/step - loss: 0.0045 - mae: 0.6036 - val_loss: 0.0024 - val_mae: 0.6019\n",
      "Epoch 30/50\n",
      "28/28 [==============================] - 3s 116ms/step - loss: 0.0042 - mae: 0.6035 - val_loss: 0.0023 - val_mae: 0.6011\n",
      "Epoch 31/50\n",
      "28/28 [==============================] - 3s 116ms/step - loss: 0.0042 - mae: 0.6029 - val_loss: 0.0023 - val_mae: 0.6009\n",
      "Epoch 32/50\n",
      "28/28 [==============================] - 3s 118ms/step - loss: 0.0042 - mae: 0.6031 - val_loss: 0.0024 - val_mae: 0.6026\n",
      "Epoch 33/50\n",
      "28/28 [==============================] - 3s 123ms/step - loss: 0.0040 - mae: 0.6031 - val_loss: 0.0022 - val_mae: 0.6022\n",
      "Epoch 34/50\n",
      "28/28 [==============================] - 4s 125ms/step - loss: 0.0040 - mae: 0.6034 - val_loss: 0.0024 - val_mae: 0.6021\n",
      "Epoch 35/50\n",
      "28/28 [==============================] - 3s 115ms/step - loss: 0.0041 - mae: 0.6031 - val_loss: 0.0023 - val_mae: 0.6018\n",
      "Epoch 36/50\n",
      "28/28 [==============================] - 3s 115ms/step - loss: 0.0039 - mae: 0.6031 - val_loss: 0.0022 - val_mae: 0.6023\n",
      "Epoch 37/50\n",
      "28/28 [==============================] - 3s 118ms/step - loss: 0.0039 - mae: 0.6029 - val_loss: 0.0023 - val_mae: 0.6018\n",
      "Epoch 38/50\n",
      "28/28 [==============================] - 3s 114ms/step - loss: 0.0037 - mae: 0.6026 - val_loss: 0.0021 - val_mae: 0.6021\n",
      "Epoch 39/50\n",
      "28/28 [==============================] - 3s 113ms/step - loss: 0.0038 - mae: 0.6033 - val_loss: 0.0021 - val_mae: 0.6013\n",
      "Epoch 40/50\n",
      "28/28 [==============================] - 3s 116ms/step - loss: 0.0037 - mae: 0.6027 - val_loss: 0.0021 - val_mae: 0.6008\n",
      "Epoch 41/50\n",
      "28/28 [==============================] - 3s 113ms/step - loss: 0.0051 - mae: 0.6019 - val_loss: 0.0035 - val_mae: 0.5979\n",
      "Epoch 42/50\n",
      "28/28 [==============================] - 3s 125ms/step - loss: 0.0071 - mae: 0.5960 - val_loss: 0.0031 - val_mae: 0.5920\n",
      "Epoch 43/50\n",
      "28/28 [==============================] - 4s 133ms/step - loss: 0.0046 - mae: 0.5953 - val_loss: 0.0025 - val_mae: 0.5963\n"
     ]
    }
   ],
   "source": [
    "# conditionally fit the model based on whether we loaded it in from a file or newly initialized\n",
    "\n",
    "Xa_tr, Xa_va, ya_tr, ya_va = train_test_split(X_arr, y_arr_orient, test_size=0.3, random_state=39\n",
    "\n",
    "es = EarlyStopping(patience=5, restore_best_weights=True)\n",
    "\n",
    "# 4) fit with train_model\n",
    "history_2 = orientation_model.fit(\n",
    "    Xa_tr, ya_tr,\n",
    "    validation_data=(Xa_va, ya_va),\n",
    "    epochs=50, batch_size=256, verbose=1, callbacks=[es]\n",
    ")"
   ]
  },
  {
   "cell_type": "code",
   "execution_count": null,
   "id": "74784581",
   "metadata": {},
   "outputs": [
    {
     "data": {
      "image/png": "[encoded data removed]",
      "text/plain": [
       "<Figure size 1200x200 with 12 Axes>"
      ]
     },
     "metadata": {},
     "output_type": "display_data"
    }
   ],
   "source": [
    "def show_grid(X, y, n=10):\n",
    "    plt.figure(figsize=(12,2))\n",
    "    for i in range(n):\n",
    "        plt.subplot(1,n,i+1)\n",
    "        plt.imshow(X[i,...,0], cmap=\"gray\")\n",
    "        plt.title(CLASS_NAMES[y[i]], fontsize=9)\n",
    "        plt.axis(\"off\")\n",
    "    plt.tight_layout(); plt.show()\n",
    "\n",
    "show_grid(Xtr, ytr, n=12)\n"
   ]
  },
  {
   "cell_type": "code",
   "execution_count": 27,
   "id": "9bee1186",
   "metadata": {},
   "outputs": [
    {
     "name": "stdout",
     "output_type": "stream",
     "text": [
      "              precision    recall  f1-score   support\n",
      "\n",
      "      circle      0.979     0.917     0.947       300\n",
      "      square      0.958     0.913     0.935       300\n",
      "    triangle      0.941     0.960     0.950       300\n",
      "        star      0.955     0.913     0.934       300\n",
      "       other      0.818     0.927     0.869       300\n",
      "\n",
      "    accuracy                          0.926      1500\n",
      "   macro avg      0.930     0.926     0.927      1500\n",
      "weighted avg      0.930     0.926     0.927      1500\n",
      "\n"
     ]
    },
    {
     "data": {
      "image/png": "[encoded data removed]",
      "text/plain": [
       "<Figure size 500x500 with 2 Axes>"
      ]
     },
     "metadata": {},
     "output_type": "display_data"
    }
   ],
   "source": [
    "# predictions on validation set\n",
    "proba = model.predict(Xva, verbose=0)\n",
    "yhat  = proba.argmax(axis=1)\n",
    "\n",
    "print(classification_report(yva, yhat, target_names=CLASS_NAMES, digits=3))\n",
    "\n",
    "# confusion matrix (vanilla matplotlib)\n",
    "cm = confusion_matrix(yva, yhat, labels=range(len(CLASS_NAMES)))\n",
    "fig, ax = plt.subplots(figsize=(5,5))\n",
    "im = ax.imshow(cm, interpolation='nearest')\n",
    "ax.figure.colorbar(im, ax=ax)\n",
    "ax.set_xticks(range(len(CLASS_NAMES))); ax.set_yticks(range(len(CLASS_NAMES)))\n",
    "ax.set_xticklabels(CLASS_NAMES, rotation=45, ha=\"right\")\n",
    "ax.set_yticklabels(CLASS_NAMES)\n",
    "ax.set_xlabel(\"Predicted\"); ax.set_ylabel(\"True\")\n",
    "plt.tight_layout(); plt.show()\n"
   ]
  },
  {
   "cell_type": "code",
   "execution_count": 28,
   "id": "c29ff0cf",
   "metadata": {},
   "outputs": [],
   "source": [
    "# pick a few that weren't in TARGETS or OTHERS\n",
    "UNSEEN = [\"airplane\",\"banana\",\"bus\",\"chair\"]\n",
    "unseen_batch = []\n",
    "for c in UNSEEN:\n",
    "    path = os.path.join(DATA_DIR, f\"{c}.npy\")\n",
    "    if os.path.exists(path):\n",
    "        arr = np.load(path)[:200].reshape(-1,28,28,1).astype(\"float32\")/255.0\n",
    "        unseen_batch.append(arr)\n",
    "if unseen_batch:\n",
    "    X_unseen = np.concatenate(unseen_batch, axis=0)\n",
    "    labels, maxp, _ = predict_with_reject(X_unseen, tau=0.6)\n",
    "    unknown_rate = (labels==-1).mean()\n",
    "    print(f\"Unknown rate on unseen classes: {unknown_rate:.2%} (want this fairly high)\")"
   ]
  },
  {
   "cell_type": "code",
   "execution_count": 29,
   "id": "39d887a4",
   "metadata": {},
   "outputs": [
    {
     "data": {
      "text/plain": [
       "('star', 0.6342745423316956, 'true:', 'star')"
      ]
     },
     "execution_count": 29,
     "metadata": {},
     "output_type": "execute_result"
    }
   ],
   "source": [
    "\n",
    "def predict_one(img28, tau=0.6, mdl=model, classes=CLASS_NAMES):\n",
    "    x = img28.astype(\"float32\")\n",
    "    if x.max() > 1.0:\n",
    "        x = x / 255.0\n",
    "    x = x[None, ..., None]\n",
    "    proba = mdl.predict(x, verbose=0)[0]\n",
    "    i = proba.argmax()\n",
    "    return (\"unknown\", float(proba[i])) if proba[i] < tau else (classes[i], float(proba[i]))\n",
    "\n",
    "\n",
    "# demo on a val sample\n",
    "lbl, conf = predict_one((Xva[0,...,0]*255).astype(\"uint8\"), tau=0.6)\n",
    "lbl, conf, \"true:\", CLASS_NAMES[yva[0]]"
   ]
  },
  {
   "cell_type": "code",
   "execution_count": 30,
   "id": "0ae35398",
   "metadata": {},
   "outputs": [
    {
     "name": "stdout",
     "output_type": "stream",
     "text": [
      "Epoch 1/3\n",
      "53/53 [==============================] - 1s 23ms/step - loss: 0.2418 - accuracy: 0.9256 - val_loss: 0.2227 - val_accuracy: 0.9333\n",
      "Epoch 2/3\n",
      "53/53 [==============================] - 1s 22ms/step - loss: 0.2366 - accuracy: 0.9236 - val_loss: 0.2269 - val_accuracy: 0.9247\n",
      "Epoch 3/3\n",
      "53/53 [==============================] - 1s 21ms/step - loss: 0.2290 - accuracy: 0.9283 - val_loss: 0.2156 - val_accuracy: 0.9353\n"
     ]
    }
   ],
   "source": [
    "# jitter the training images by ±1 pixel\n",
    "def jitter_shift(x):\n",
    "    dy = np.random.randint(-1, 2)\n",
    "    dx = np.random.randint(-1, 2)\n",
    "    return np.roll(np.roll(x, dy, axis=0), dx, axis=1)\n",
    "\n",
    "aug_X = Xtr.copy()\n",
    "mask = np.random.rand(len(aug_X)) < 0.5\n",
    "aug_X[mask,...,0] = np.array([jitter_shift(im) for im in aug_X[mask,...,0]])\n",
    "\n",
    "history = train_model.fit(aug_X, ytr, validation_data=(Xva, yva),\n",
    "                    epochs=3, batch_size=256, verbose=1)\n"
   ]
  },
  {
   "cell_type": "code",
   "execution_count": 59,
   "id": "9807e560",
   "metadata": {},
   "outputs": [
    {
     "name": "stderr",
     "output_type": "stream",
     "text": [
      "/Users/mayaamaryllis/.pyenv/versions/3.11.1/envs/doodle-autocomplete/lib/python3.11/site-packages/keras/src/engine/training.py:3103: UserWarning: You are saving your model as an HDF5 file via `model.save()`. This file format is considered legacy. We recommend using instead the native Keras format, e.g. `model.save('my_model.keras')`.\n",
      "  saving_api.save_model(\n"
     ]
    }
   ],
   "source": [
    "classification_model.save(\"new_model.h5\")"
   ]
  },
  {
   "cell_type": "code",
   "execution_count": 20,
   "id": "8c7a0aa6",
   "metadata": {},
   "outputs": [],
   "source": [
    "#  Now go to terminal to make a js model\n",
    "#\n",
    "#  tensorflowjs_converter --input_format=keras \\\n",
    "#  notebooks/louise_notebooks/shapes_tinycnn_keras.h5 \\\n",
    "#  web_model/"
   ]
  },
  {
   "cell_type": "code",
   "execution_count": 117,
   "id": "0bcc4cc1",
   "metadata": {},
   "outputs": [
    {
     "name": "stderr",
     "output_type": "stream",
     "text": [
      "/Users/mayaamaryllis/.pyenv/versions/3.11.1/envs/doodle-autocomplete/lib/python3.11/site-packages/keras/src/engine/training.py:3103: UserWarning: You are saving your model as an HDF5 file via `model.save()`. This file format is considered legacy. We recommend using instead the native Keras format, e.g. `model.save('my_model.keras')`.\n",
      "  saving_api.save_model(\n"
     ]
    }
   ],
   "source": [
    "orientation_model.save(\"model_orientation.h5\")"
   ]
  },
  {
   "cell_type": "code",
   "execution_count": 118,
   "id": "76733811",
   "metadata": {},
   "outputs": [],
   "source": [
    "classification_model.save(\"model_classification.h5\")"
   ]
  },
  {
   "cell_type": "code",
   "execution_count": 60,
   "id": "073cb583",
   "metadata": {},
   "outputs": [],
   "source": [
    "#  Now go to terminal to make a js model\n",
    "!tensorflowjs_converter --input_format=keras \\\n",
    "    new_model.h5 \\\n",
    "    web_model/"
   ]
  },
  {
   "cell_type": "code",
   "execution_count": 122,
   "id": "e94c2f15",
   "metadata": {},
   "outputs": [],
   "source": [
    "#  Now go to terminal to make a js model\n",
    "!tensorflowjs_converter --input_format=keras \\\n",
    "    model_classification.h5 \\\n",
    "    web_model/"
   ]
  },
  {
   "cell_type": "code",
   "execution_count": null,
   "id": "5355a58a",
   "metadata": {},
   "outputs": [],
   "source": []
  },
  {
   "cell_type": "code",
   "execution_count": 15,
   "id": "fa48f924",
   "metadata": {},
   "outputs": [],
   "source": [
    "# --- Section 7: Prediction utility ---\n",
    "def predict_and_show_rotated(img_rotated, class_names=CLASS_NAMES):\n",
    "    img_input = img_rotated\n",
    "    img_input = np.expand_dims(img_input, axis=0)\n",
    "\n",
    "    class_pred = classification_model.predict(img_input, verbose=0)\n",
    "    orient_pred = orientation_model.predict(img_input, verbose=0)\n",
    "\n",
    "    pred_class_idx = np.argmax(class_pred, axis=1)[0]\n",
    "    pred_class_name = class_names[pred_class_idx]\n",
    "    sin_pred, cos_pred = orient_pred[0]\n",
    "\n",
    "    # normalize sin/cos\n",
    "    norm = np.sqrt(sin_pred**2 + cos_pred**2)\n",
    "    sin_pred /= norm\n",
    "    cos_pred /= norm\n",
    "\n",
    "    # predicted orientation in degrees\n",
    "    pred_orientation = np.rad2deg(np.arctan2(sin_pred, cos_pred)) % 360\n",
    "\n",
    "    plt.imshow(img_rotated, cmap='gray')\n",
    "    plt.axis('off')\n",
    "    plt.title(f\"{pred_class_name}\\nPredicted orientation: {pred_orientation:.1f}°\")\n",
    "\n",
    "    # --- Arrow drawing ---\n",
    "    center = (14, 14)\n",
    "    length = 10\n",
    "\n",
    "    # Rotate angle so that 0° = up, 90° = left\n",
    "    angle_rad = np.deg2rad(pred_orientation)\n",
    "    dx = -length * np.sin(angle_rad)   # X component\n",
    "    dy = -length * np.cos(angle_rad)   # Y component (negative because image coords)\n",
    "\n",
    "    plt.arrow(center[0], center[1], dx, dy,\n",
    "              color='red', head_width=2, head_length=3)\n",
    "    plt.show()\n",
    "\n",
    "    return pred_class_name, pred_orientation"
   ]
  },
  {
   "cell_type": "code",
   "execution_count": 10,
   "id": "20226eba",
   "metadata": {},
   "outputs": [],
   "source": [
    "from scipy.ndimage import rotate\n",
    "\n",
    "def prep_image(n):\n",
    "\n",
    "\n",
    "    # Load vertical_arrows class\n",
    "    arr = np.load(\"data/axis.npy\")  # shape (N, 784)\n",
    "\n",
    "    # Pick the 4th sample (index 3)\n",
    "    img_flat = arr[n]\n",
    "\n",
    "    # Choose a random rotation angle (0–360 degrees)\n",
    "    angle = np.random.uniform(0, 360)\n",
    "\n",
    "\n",
    "    # Rotate the image\n",
    "    return rotate(img_flat.reshape(28,28), angle, reshape=False, order=1, mode='constant')"
   ]
  },
  {
   "cell_type": "code",
   "execution_count": null,
   "id": "a68230eb",
   "metadata": {},
   "outputs": [],
   "source": [
    "# Load vertical_arrows class\n",
    "arr = np.load(\"data/cat.npy\")  # shape (N, 784)\n",
    "\n",
    "# Pick the 4th sample (index 3)\n",
    "img_flat = arr[66]\n",
    "\n",
    "# Choose a random rotation angle (0–360 degrees)\n",
    "angle = np.random.uniform(0, 360)\n",
    "\n",
    "\n",
    "# Rotate the image\n",
    "img_rotated = rotate(img_flat.reshape(28,28), angle, reshape=False, order=1, mode='constant')"
   ]
  },
  {
   "cell_type": "code",
   "execution_count": null,
   "id": "51d15c02",
   "metadata": {},
   "outputs": [],
   "source": [
    "# Manual tests:\n",
    "\n",
    "img_input = img_flat.reshape(28,28)\n",
    "img_input = np.expand_dims(img_input, axis=0)\n",
    "\n",
    "class_pred = classification_model.predict(img_input)\n",
    "pred_class_idx = np.argmax(class_pred, axis=1)[0]\n",
    "pred_class_name = CLASS_NAMES[pred_class_idx]\n"
   ]
  },
  {
   "cell_type": "code",
   "execution_count": 52,
   "id": "3d90f18b",
   "metadata": {},
   "outputs": [
    {
     "data": {
      "image/png": "[encoded data removed]",
      "text/plain": [
       "<Figure size 640x480 with 1 Axes>"
      ]
     },
     "metadata": {},
     "output_type": "display_data"
    },
    {
     "name": "stdout",
     "output_type": "stream",
     "text": [
      "Rotation angle: 251.44678804894582\n"
     ]
    }
   ],
   "source": [
    "plt.imshow(img_flat.reshape(28,28), cmap='gray')\n",
    "plt.title(f\"Rotated image by {angle:.1f} degrees\")\n",
    "plt.axis('off')\n",
    "plt.show()\n",
    "\n",
    "print(\"Rotation angle:\", angle)"
   ]
  },
  {
   "cell_type": "code",
   "execution_count": null,
   "id": "4bc9b3d4",
   "metadata": {},
   "outputs": [],
   "source": [
    "rotate(img_flat.reshape(28,28), angle, reshape=False, order=1, mode='constant')"
   ]
  },
  {
   "cell_type": "code",
   "execution_count": 50,
   "id": "9b22c5a1",
   "metadata": {},
   "outputs": [
    {
     "ename": "NameError",
     "evalue": "name 'predict_and_show_rotated' is not defined",
     "output_type": "error",
     "traceback": [
      "\u001b[0;31m---------------------------------------------------------------------------\u001b[0m",
      "\u001b[0;31mNameError\u001b[0m                                 Traceback (most recent call last)",
      "Cell \u001b[0;32mIn[50], line 1\u001b[0m\n\u001b[0;32m----> 1\u001b[0m pred_class, pred_orient \u001b[38;5;241m=\u001b[39m \u001b[43mpredict_and_show_rotated\u001b[49m(prep_image(X[\u001b[38;5;241m4100\u001b[39m]))\n",
      "\u001b[0;31mNameError\u001b[0m: name 'predict_and_show_rotated' is not defined"
     ]
    }
   ],
   "source": [
    "pred_class, pred_orient = predict_and_show_rotated(prep_image(X[4100]))"
   ]
  },
  {
   "cell_type": "code",
   "execution_count": null,
   "id": "7952c053",
   "metadata": {},
   "outputs": [],
   "source": []
  },
  {
   "cell_type": "code",
   "execution_count": 61,
   "id": "ba28b261",
   "metadata": {},
   "outputs": [
    {
     "data": {
      "text/plain": [
       "['circle',\n",
       " 'square',\n",
       " 'triangle',\n",
       " 'star',\n",
       " 'vertical_line',\n",
       " 'vertical_arrows',\n",
       " 'axis',\n",
       " 'bat',\n",
       " 'car',\n",
       " 'cat',\n",
       " 'eyeglasses',\n",
       " 'face',\n",
       " 'hat',\n",
       " 'microphone',\n",
       " 'moon',\n",
       " 'sailboat',\n",
       " 'other']"
      ]
     },
     "execution_count": 61,
     "metadata": {},
     "output_type": "execute_result"
    }
   ],
   "source": [
    "CLASS_NAMES"
   ]
  },
  {
   "cell_type": "code",
   "execution_count": 17,
   "id": "d0944562",
   "metadata": {},
   "outputs": [
    {
     "ename": "NameError",
     "evalue": "name 'classification_model' is not defined",
     "output_type": "error",
     "traceback": [
      "\u001b[0;31m---------------------------------------------------------------------------\u001b[0m",
      "\u001b[0;31mNameError\u001b[0m                                 Traceback (most recent call last)",
      "Cell \u001b[0;32mIn[17], line 1\u001b[0m\n\u001b[0;32m----> 1\u001b[0m pred_class, pred_orient \u001b[38;5;241m=\u001b[39m \u001b[43mpredict_and_show_rotated\u001b[49m\u001b[43m(\u001b[49m\u001b[43marr\u001b[49m\u001b[43m[\u001b[49m\u001b[38;5;241;43m66\u001b[39;49m\u001b[43m]\u001b[49m\u001b[43m)\u001b[49m\n",
      "Cell \u001b[0;32mIn[15], line 6\u001b[0m, in \u001b[0;36mpredict_and_show_rotated\u001b[0;34m(img_rotated, class_names)\u001b[0m\n\u001b[1;32m      3\u001b[0m img_input \u001b[38;5;241m=\u001b[39m img_rotated\n\u001b[1;32m      4\u001b[0m img_input \u001b[38;5;241m=\u001b[39m np\u001b[38;5;241m.\u001b[39mexpand_dims(img_input, axis\u001b[38;5;241m=\u001b[39m\u001b[38;5;241m0\u001b[39m)\n\u001b[0;32m----> 6\u001b[0m class_pred \u001b[38;5;241m=\u001b[39m \u001b[43mclassification_model\u001b[49m\u001b[38;5;241m.\u001b[39mpredict(img_input, verbose\u001b[38;5;241m=\u001b[39m\u001b[38;5;241m0\u001b[39m)\n\u001b[1;32m      7\u001b[0m orient_pred \u001b[38;5;241m=\u001b[39m orientation_model\u001b[38;5;241m.\u001b[39mpredict(img_input, verbose\u001b[38;5;241m=\u001b[39m\u001b[38;5;241m0\u001b[39m)\n\u001b[1;32m      9\u001b[0m pred_class_idx \u001b[38;5;241m=\u001b[39m np\u001b[38;5;241m.\u001b[39margmax(class_pred, axis\u001b[38;5;241m=\u001b[39m\u001b[38;5;241m1\u001b[39m)[\u001b[38;5;241m0\u001b[39m]\n",
      "\u001b[0;31mNameError\u001b[0m: name 'classification_model' is not defined"
     ]
    }
   ],
   "source": [
    "pred_class, pred_orient = predict_and_show_rotated(arr[66])"
   ]
  }
 ],
 "metadata": {
  "kernelspec": {
   "display_name": "doodle-autocomplete",
   "language": "python",
   "name": "python3"
  },
  "language_info": {
   "codemirror_mode": {
    "name": "ipython",
    "version": 3
   },
   "file_extension": ".py",
   "mimetype": "text/x-python",
   "name": "python",
   "nbconvert_exporter": "python",
   "pygments_lexer": "ipython3",
   "version": "3.11.1"
  }
 },
 "nbformat": 4,
 "nbformat_minor": 5
}
